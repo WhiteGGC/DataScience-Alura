{
  "nbformat": 4,
  "nbformat_minor": 0,
  "metadata": {
    "colab": {
      "provenance": []
    },
    "kernelspec": {
      "name": "python3",
      "display_name": "Python 3"
    },
    "language_info": {
      "name": "python"
    }
  },
  "cells": [
    {
      "cell_type": "code",
      "execution_count": null,
      "metadata": {
        "id": "P9zJCm4FC-UZ"
      },
      "outputs": [],
      "source": [
        "import pandas as pd"
      ]
    },
    {
      "cell_type": "code",
      "source": [
        "data = [0.5, None, None, 0.45, None, 0.75, 0.2, None, 0.85, 0.5, None]\n",
        "data"
      ],
      "metadata": {
        "colab": {
          "base_uri": "https://localhost:8080/"
        },
        "id": "Y03wb_A0C_xU",
        "outputId": "572ae8ef-bcc7-42fc-d1cd-820c8b1fab5d"
      },
      "execution_count": null,
      "outputs": [
        {
          "output_type": "execute_result",
          "data": {
            "text/plain": [
              "[0.5, None, None, 0.45, None, 0.75, 0.2, None, 0.85, 0.5, None]"
            ]
          },
          "metadata": {},
          "execution_count": 2
        }
      ]
    },
    {
      "cell_type": "code",
      "source": [
        "s = pd.Series(data)\n",
        "s"
      ],
      "metadata": {
        "colab": {
          "base_uri": "https://localhost:8080/"
        },
        "id": "5DZjpHJxDRAz",
        "outputId": "d1b5bc99-e0cb-4b87-ce83-d55c7a83f079"
      },
      "execution_count": null,
      "outputs": [
        {
          "output_type": "execute_result",
          "data": {
            "text/plain": [
              "0     0.50\n",
              "1      NaN\n",
              "2      NaN\n",
              "3     0.45\n",
              "4      NaN\n",
              "5     0.75\n",
              "6     0.20\n",
              "7      NaN\n",
              "8     0.85\n",
              "9     0.50\n",
              "10     NaN\n",
              "dtype: float64"
            ]
          },
          "metadata": {},
          "execution_count": 3
        }
      ]
    },
    {
      "cell_type": "code",
      "source": [
        "s.fillna(0)"
      ],
      "metadata": {
        "colab": {
          "base_uri": "https://localhost:8080/"
        },
        "id": "GcrhxA2CDVPD",
        "outputId": "cd23a164-ab0f-4c80-b834-e3a3f3921202"
      },
      "execution_count": null,
      "outputs": [
        {
          "output_type": "execute_result",
          "data": {
            "text/plain": [
              "0     0.50\n",
              "1     0.00\n",
              "2     0.00\n",
              "3     0.45\n",
              "4     0.00\n",
              "5     0.75\n",
              "6     0.20\n",
              "7     0.00\n",
              "8     0.85\n",
              "9     0.50\n",
              "10    0.00\n",
              "dtype: float64"
            ]
          },
          "metadata": {},
          "execution_count": 7
        }
      ]
    },
    {
      "cell_type": "code",
      "source": [
        "s.fillna(method='ffill')"
      ],
      "metadata": {
        "colab": {
          "base_uri": "https://localhost:8080/"
        },
        "id": "PeTAtoGRDeOD",
        "outputId": "fe359da8-62e8-47bc-9c15-e822088532fe"
      },
      "execution_count": null,
      "outputs": [
        {
          "output_type": "execute_result",
          "data": {
            "text/plain": [
              "0     0.50\n",
              "1     0.50\n",
              "2     0.50\n",
              "3     0.45\n",
              "4     0.45\n",
              "5     0.75\n",
              "6     0.20\n",
              "7     0.20\n",
              "8     0.85\n",
              "9     0.50\n",
              "10    0.50\n",
              "dtype: float64"
            ]
          },
          "metadata": {},
          "execution_count": 9
        }
      ]
    },
    {
      "cell_type": "code",
      "source": [
        "s.fillna(method='bfill')"
      ],
      "metadata": {
        "colab": {
          "base_uri": "https://localhost:8080/"
        },
        "id": "eE2C5jgODopW",
        "outputId": "966b0119-dd5d-430d-e511-e70f30e2ba66"
      },
      "execution_count": null,
      "outputs": [
        {
          "output_type": "execute_result",
          "data": {
            "text/plain": [
              "0     0.50\n",
              "1     0.45\n",
              "2     0.45\n",
              "3     0.45\n",
              "4     0.75\n",
              "5     0.75\n",
              "6     0.20\n",
              "7     0.85\n",
              "8     0.85\n",
              "9     0.50\n",
              "10     NaN\n",
              "dtype: float64"
            ]
          },
          "metadata": {},
          "execution_count": 11
        }
      ]
    },
    {
      "cell_type": "code",
      "source": [
        "s.fillna(s.mean())"
      ],
      "metadata": {
        "colab": {
          "base_uri": "https://localhost:8080/"
        },
        "id": "gQRlfbE0D7pk",
        "outputId": "08590f4f-051b-4a7e-c044-75c82e56ae36"
      },
      "execution_count": null,
      "outputs": [
        {
          "output_type": "execute_result",
          "data": {
            "text/plain": [
              "0     0.500000\n",
              "1     0.541667\n",
              "2     0.541667\n",
              "3     0.450000\n",
              "4     0.541667\n",
              "5     0.750000\n",
              "6     0.200000\n",
              "7     0.541667\n",
              "8     0.850000\n",
              "9     0.500000\n",
              "10    0.541667\n",
              "dtype: float64"
            ]
          },
          "metadata": {},
          "execution_count": 12
        }
      ]
    },
    {
      "cell_type": "code",
      "source": [
        "s.fillna(method='ffill', limit=1)"
      ],
      "metadata": {
        "colab": {
          "base_uri": "https://localhost:8080/"
        },
        "id": "4N4b9u1fEbtj",
        "outputId": "d20b8242-4926-4700-f830-b7ad06314e67"
      },
      "execution_count": null,
      "outputs": [
        {
          "output_type": "execute_result",
          "data": {
            "text/plain": [
              "0     0.50\n",
              "1     0.50\n",
              "2      NaN\n",
              "3     0.45\n",
              "4     0.45\n",
              "5     0.75\n",
              "6     0.20\n",
              "7     0.20\n",
              "8     0.85\n",
              "9     0.50\n",
              "10    0.50\n",
              "dtype: float64"
            ]
          },
          "metadata": {},
          "execution_count": 13
        }
      ]
    }
  ]
}